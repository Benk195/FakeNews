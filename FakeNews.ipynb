{
 "cells": [
  {
   "cell_type": "markdown",
   "metadata": {},
   "source": [
    "# Project Overview\n",
    "### Background\n",
    "Whilst researching possible ideas for this project, the majority of simple use-cases for data science appeared to be focused around business problems such as financial forecasting, churn prediction or channel optimisation. However, as a data analyst already, this is my day job. So I decided to find something instead that mattered to me, and could be applied to benefit society.\n",
    "\n",
    "The past 10 years have seen an explosion in the phenomena of 'Fake News'. Whilst misinformation and lies have existed for as long as humans have had the ability to talk, the rise of the internet has allowed misinformation to propegate like never before.\n",
    "\n",
    "Therefore, I wanted to create a model which would be able to 'call out' fake news articles.\n",
    "\n",
    "### Proposal\n",
    "The aim of this workbook will be to build a model which classifies a webpage as either real or fake, to a reasonable degree of accurancy.\n",
    "\n",
    "I think a degree of leniancy should be afforded when talking about accuracy, due to the highly specific nature of this problem.\n",
    "\n",
    "### Data\n",
    "Finding quality datasets which classify real and fake news was quite a challenge. However, luckily I was able to identify one such dataset on Kaggle, uploaded by user Hassan Amin. The dataset can be found here: https://www.kaggle.com/hassanamin/textdb3.\n",
    "\n",
    "I was able to check several of the records that are still available on the web, and can validate the ones I checked seemed correctly labeled.\n",
    "\n",
    "The dataset covers real and fake news articles, generally centred around American politics and the 2016 election cycle. This will affect which types of articles the model can hope to classify.\n",
    "\n",
    "### Method\n",
    "First we will prepare the data. This will not involve much transformation (but I do not consider this important as I generally do this in my day-job), but will include vectorising the text data into a format readable by the model.\n",
    "\n",
    "Then, we will compare a range of models and select the best one based on the accuracy score.\n",
    "\n",
    "Finally, we will test the model \"in the wild\" by webscraping articles from a range of sources I can vouch for as being either real, fake, or questionable.\n",
    "\n",
    "I thoroughly recommend that the reviewer try a few articles of their own!"
   ]
  },
  {
   "cell_type": "code",
   "execution_count": 63,
   "metadata": {},
   "outputs": [],
   "source": [
    "# libraries\n",
    "import numpy as np\n",
    "import pandas as pd\n",
    "import itertools\n",
    "import requests\n",
    "import matplotlib.pyplot as plt\n",
    "from bs4 import BeautifulSoup"
   ]
  },
  {
   "cell_type": "code",
   "execution_count": 65,
   "metadata": {},
   "outputs": [],
   "source": [
    "# sklearn\n",
    "from sklearn.model_selection import train_test_split\n",
    "from sklearn.feature_extraction.text import TfidfVectorizer\n",
    "from sklearn.linear_model import PassiveAggressiveClassifier\n",
    "from sklearn.metrics import classification_report, accuracy_score, confusion_matrix\n",
    "from sklearn.ensemble import RandomForestClassifier\n",
    "from sklearn.svm import SVC\n",
    "from sklearn.tree import DecisionTreeClassifier\n",
    "from sklearn import model_selection\n",
    "from sklearn.linear_model import LogisticRegression\n",
    "from sklearn.neighbors import KNeighborsClassifier"
   ]
  },
  {
   "cell_type": "code",
   "execution_count": 2,
   "metadata": {},
   "outputs": [],
   "source": [
    "df = pd.read_csv('news.csv')"
   ]
  },
  {
   "cell_type": "code",
   "execution_count": 33,
   "metadata": {},
   "outputs": [
    {
     "data": {
      "text/plain": [
       "(6335, 3)"
      ]
     },
     "execution_count": 33,
     "metadata": {},
     "output_type": "execute_result"
    }
   ],
   "source": [
    "df.shape"
   ]
  },
  {
   "cell_type": "code",
   "execution_count": 3,
   "metadata": {},
   "outputs": [
    {
     "data": {
      "text/html": [
       "<div>\n",
       "<style scoped>\n",
       "    .dataframe tbody tr th:only-of-type {\n",
       "        vertical-align: middle;\n",
       "    }\n",
       "\n",
       "    .dataframe tbody tr th {\n",
       "        vertical-align: top;\n",
       "    }\n",
       "\n",
       "    .dataframe thead th {\n",
       "        text-align: right;\n",
       "    }\n",
       "</style>\n",
       "<table border=\"1\" class=\"dataframe\">\n",
       "  <thead>\n",
       "    <tr style=\"text-align: right;\">\n",
       "      <th></th>\n",
       "      <th>Unnamed: 0</th>\n",
       "      <th>title</th>\n",
       "      <th>text</th>\n",
       "      <th>label</th>\n",
       "    </tr>\n",
       "  </thead>\n",
       "  <tbody>\n",
       "    <tr>\n",
       "      <th>0</th>\n",
       "      <td>8476</td>\n",
       "      <td>You Can Smell Hillary’s Fear</td>\n",
       "      <td>Daniel Greenfield, a Shillman Journalism Fello...</td>\n",
       "      <td>FAKE</td>\n",
       "    </tr>\n",
       "    <tr>\n",
       "      <th>1</th>\n",
       "      <td>10294</td>\n",
       "      <td>Watch The Exact Moment Paul Ryan Committed Pol...</td>\n",
       "      <td>Google Pinterest Digg Linkedin Reddit Stumbleu...</td>\n",
       "      <td>FAKE</td>\n",
       "    </tr>\n",
       "    <tr>\n",
       "      <th>2</th>\n",
       "      <td>3608</td>\n",
       "      <td>Kerry to go to Paris in gesture of sympathy</td>\n",
       "      <td>U.S. Secretary of State John F. Kerry said Mon...</td>\n",
       "      <td>REAL</td>\n",
       "    </tr>\n",
       "    <tr>\n",
       "      <th>3</th>\n",
       "      <td>10142</td>\n",
       "      <td>Bernie supporters on Twitter erupt in anger ag...</td>\n",
       "      <td>— Kaydee King (@KaydeeKing) November 9, 2016 T...</td>\n",
       "      <td>FAKE</td>\n",
       "    </tr>\n",
       "    <tr>\n",
       "      <th>4</th>\n",
       "      <td>875</td>\n",
       "      <td>The Battle of New York: Why This Primary Matters</td>\n",
       "      <td>It's primary day in New York and front-runners...</td>\n",
       "      <td>REAL</td>\n",
       "    </tr>\n",
       "  </tbody>\n",
       "</table>\n",
       "</div>"
      ],
      "text/plain": [
       "   Unnamed: 0                                              title  \\\n",
       "0        8476                       You Can Smell Hillary’s Fear   \n",
       "1       10294  Watch The Exact Moment Paul Ryan Committed Pol...   \n",
       "2        3608        Kerry to go to Paris in gesture of sympathy   \n",
       "3       10142  Bernie supporters on Twitter erupt in anger ag...   \n",
       "4         875   The Battle of New York: Why This Primary Matters   \n",
       "\n",
       "                                                text label  \n",
       "0  Daniel Greenfield, a Shillman Journalism Fello...  FAKE  \n",
       "1  Google Pinterest Digg Linkedin Reddit Stumbleu...  FAKE  \n",
       "2  U.S. Secretary of State John F. Kerry said Mon...  REAL  \n",
       "3  — Kaydee King (@KaydeeKing) November 9, 2016 T...  FAKE  \n",
       "4  It's primary day in New York and front-runners...  REAL  "
      ]
     },
     "execution_count": 3,
     "metadata": {},
     "output_type": "execute_result"
    }
   ],
   "source": [
    "df.head()"
   ]
  },
  {
   "cell_type": "code",
   "execution_count": 4,
   "metadata": {},
   "outputs": [
    {
     "data": {
      "text/plain": [
       "REAL    3171\n",
       "FAKE    3164\n",
       "Name: label, dtype: int64"
      ]
     },
     "execution_count": 4,
     "metadata": {},
     "output_type": "execute_result"
    }
   ],
   "source": [
    "df['label'].value_counts()"
   ]
  },
  {
   "cell_type": "code",
   "execution_count": 5,
   "metadata": {},
   "outputs": [
    {
     "name": "stdout",
     "output_type": "stream",
     "text": [
      "(6335, 4)\n",
      "(6335, 4)\n",
      "\n",
      " This means Unnamed: 0 is just an index and can be removed\n"
     ]
    },
    {
     "data": {
      "image/png": "[encoded data removed]",
      "text/plain": [
       "<Figure size 432x288 with 1 Axes>"
      ]
     },
     "metadata": {
      "needs_background": "light"
     },
     "output_type": "display_data"
    }
   ],
   "source": [
    "df_distinct = df.drop_duplicates(subset = ['Unnamed: 0'])\n",
    "print(df.shape)\n",
    "print(df_distinct.shape)\n",
    "df.hist(column='Unnamed: 0')\n",
    "#This means Unnamed: 0 is just an index and can be removed\n",
    "df = df.drop(['Unnamed: 0'], axis=1)\n",
    "\n",
    "print('\\n This means Unnamed: 0 is just an index and can be removed')"
   ]
  },
  {
   "cell_type": "code",
   "execution_count": 6,
   "metadata": {},
   "outputs": [
    {
     "data": {
      "text/html": [
       "<div>\n",
       "<style scoped>\n",
       "    .dataframe tbody tr th:only-of-type {\n",
       "        vertical-align: middle;\n",
       "    }\n",
       "\n",
       "    .dataframe tbody tr th {\n",
       "        vertical-align: top;\n",
       "    }\n",
       "\n",
       "    .dataframe thead th {\n",
       "        text-align: right;\n",
       "    }\n",
       "</style>\n",
       "<table border=\"1\" class=\"dataframe\">\n",
       "  <thead>\n",
       "    <tr style=\"text-align: right;\">\n",
       "      <th></th>\n",
       "      <th>title</th>\n",
       "      <th>text</th>\n",
       "      <th>label</th>\n",
       "    </tr>\n",
       "  </thead>\n",
       "  <tbody>\n",
       "    <tr>\n",
       "      <th>0</th>\n",
       "      <td>You Can Smell Hillary’s Fear</td>\n",
       "      <td>Daniel Greenfield, a Shillman Journalism Fello...</td>\n",
       "      <td>FAKE</td>\n",
       "    </tr>\n",
       "    <tr>\n",
       "      <th>1</th>\n",
       "      <td>Watch The Exact Moment Paul Ryan Committed Pol...</td>\n",
       "      <td>Google Pinterest Digg Linkedin Reddit Stumbleu...</td>\n",
       "      <td>FAKE</td>\n",
       "    </tr>\n",
       "    <tr>\n",
       "      <th>2</th>\n",
       "      <td>Kerry to go to Paris in gesture of sympathy</td>\n",
       "      <td>U.S. Secretary of State John F. Kerry said Mon...</td>\n",
       "      <td>REAL</td>\n",
       "    </tr>\n",
       "    <tr>\n",
       "      <th>3</th>\n",
       "      <td>Bernie supporters on Twitter erupt in anger ag...</td>\n",
       "      <td>— Kaydee King (@KaydeeKing) November 9, 2016 T...</td>\n",
       "      <td>FAKE</td>\n",
       "    </tr>\n",
       "    <tr>\n",
       "      <th>4</th>\n",
       "      <td>The Battle of New York: Why This Primary Matters</td>\n",
       "      <td>It's primary day in New York and front-runners...</td>\n",
       "      <td>REAL</td>\n",
       "    </tr>\n",
       "  </tbody>\n",
       "</table>\n",
       "</div>"
      ],
      "text/plain": [
       "                                               title  \\\n",
       "0                       You Can Smell Hillary’s Fear   \n",
       "1  Watch The Exact Moment Paul Ryan Committed Pol...   \n",
       "2        Kerry to go to Paris in gesture of sympathy   \n",
       "3  Bernie supporters on Twitter erupt in anger ag...   \n",
       "4   The Battle of New York: Why This Primary Matters   \n",
       "\n",
       "                                                text label  \n",
       "0  Daniel Greenfield, a Shillman Journalism Fello...  FAKE  \n",
       "1  Google Pinterest Digg Linkedin Reddit Stumbleu...  FAKE  \n",
       "2  U.S. Secretary of State John F. Kerry said Mon...  REAL  \n",
       "3  — Kaydee King (@KaydeeKing) November 9, 2016 T...  FAKE  \n",
       "4  It's primary day in New York and front-runners...  REAL  "
      ]
     },
     "execution_count": 6,
     "metadata": {},
     "output_type": "execute_result"
    }
   ],
   "source": [
    "df.head()"
   ]
  },
  {
   "cell_type": "code",
   "execution_count": 7,
   "metadata": {},
   "outputs": [
    {
     "name": "stdout",
     "output_type": "stream",
     "text": [
      "title    0\n",
      "text     0\n",
      "label    0\n",
      "dtype: int64\n",
      "\n",
      " No null values - Nice\n"
     ]
    }
   ],
   "source": [
    "x = df.isna().sum()\n",
    "print(x)\n",
    "print('\\n No null values - Nice')"
   ]
  },
  {
   "cell_type": "code",
   "execution_count": 8,
   "metadata": {},
   "outputs": [
    {
     "name": "stdout",
     "output_type": "stream",
     "text": [
      "mean     65.277664\n",
      "max     289.000000\n",
      "std      23.733657\n",
      "Name: title, dtype: float64\n",
      "-------------\n",
      "mean      4707.250355\n",
      "max     115372.000000\n",
      "std       5090.956446\n",
      "Name: text, dtype: float64\n"
     ]
    }
   ],
   "source": [
    "print(df['title'].str.len().agg(['mean','max','std']))\n",
    "print('-------------')\n",
    "print(df['text'].str.len().agg(['mean','max','std']))"
   ]
  },
  {
   "cell_type": "code",
   "execution_count": 9,
   "metadata": {
    "scrolled": true
   },
   "outputs": [
    {
     "data": {
      "text/plain": [
       "1\n",
       "Watch The Exact Moment Paul Ryan Committed Political Suicide At A Trump Rally (VIDEO)                                                                                                                                                                                                                                                                                                                                                                                                                                                                                                                                                                                                                                                                                                                                                                                                                                                                                                                                                                                                                                                                                                                                                                                                                                                                                                                                                                                                                                                                                                                                                                                                                                                                                                                                                                                                                                                                                                                                                                                                                                                                                                                                                                                                                                                                                                                                                                                                                                                                                                                                                                                                                                                                             NaN\n",
       "Google Pinterest Digg Linkedin Reddit Stumbleupon Print Delicious Pocket Tumblr \\nThere are two fundamental truths in this world: Paul Ryan desperately wants to be president. And Paul Ryan will never be president. Today proved it. \\nIn a particularly staggering example of political cowardice, Paul Ryan re-re-re-reversed course and announced that he was back on the Trump Train after all. This was an aboutface from where he was a few weeks ago. He had previously declared he would not be supporting or defending Trump after a tape was made public in which Trump bragged about assaulting women. Suddenly, Ryan was appearing at a pro-Trump rally and boldly declaring that he already sent in his vote to make him President of the United States. It was a surreal moment. The figurehead of the Republican Party dosed himself in gasoline, got up on a stage on a chilly afternoon in Wisconsin, and lit a match. . @SpeakerRyan says he voted for @realDonaldTrump : “Republicans, it is time to come home” https://t.co/VyTT49YvoE pic.twitter.com/wCvSCg4a5I \\n— ABC News Politics (@ABCPolitics) November 5, 2016 \\nThe Democratic Party couldn’t have asked for a better moment of film. Ryan’s chances of ever becoming president went down to zero in an instant. In the wreckage Trump is to leave behind in his wake, those who cravenly backed his campaign will not recover. If Ryan’s career manages to limp all the way to 2020, then the DNC will have this tape locked and loaded to be used in every ad until Election Day. \\nThe ringing endorsement of the man he clearly hates on a personal level speaks volumes about his own spinelessness. Ryan has postured himself as a “principled” conservative, and one uncomfortable with Trump’s unapologetic bigotry and sexism. However, when push came to shove, Paul Ryan – like many of his colleagues – turned into a sniveling appeaser. After all his lofty tak about conviction, his principles were a house of cards and collapsed with the slightest breeze. \\nWhat’s especially bizarre is how close Ryan came to making it through unscathed. For months the Speaker of the House refused to comment on Trump at all. His strategy seemed to be to keep his head down, pretend Trump didn’t exist, and hope that nobody remembered what happened in 2016. Now, just days away from the election, he screwed it all up. \\nIf 2016’s very ugly election has done any good it’s by exposing the utter cowardice of the Republicans who once feigned moral courage. A reality television star spit on them, hijacked their party, insulted their wives, and got every last one of them to kneel before him. What a turn of events. \\nFeatured image via Twitter    NaN\n",
       "FAKE                                                                                                                                                                                                                                                                                                                                                                                                                                                                                                                                                                                                                                                                                                                                                                                                                                                                                                                                                                                                                                                                                                                                                                                                                                                                                                                                                                                                                                                                                                                                                                                                                                                                                                                                                                                                                                                                                                                                                                                                                                                                                                                                                                                                                                                                                                                                                                                                                                                                                                                                                                                                                                                                                                                                                              NaN\n",
       "Name: text, dtype: object"
      ]
     },
     "execution_count": 9,
     "metadata": {},
     "output_type": "execute_result"
    }
   ],
   "source": [
    "#Taking a look at a sample. Quite a lot of text to work with.\n",
    "df['text'][df.iloc[1]]"
   ]
  },
  {
   "cell_type": "markdown",
   "metadata": {},
   "source": [
    "## Train and define model"
   ]
  },
  {
   "cell_type": "code",
   "execution_count": 10,
   "metadata": {},
   "outputs": [],
   "source": [
    "# Classes to classify\n",
    "labels = df.label"
   ]
  },
  {
   "cell_type": "code",
   "execution_count": 11,
   "metadata": {},
   "outputs": [],
   "source": [
    "# split the data into train and test\n",
    "x_train,x_test,y_train,y_test=train_test_split(df['text'], labels, test_size=0.25, random_state=7)"
   ]
  },
  {
   "cell_type": "code",
   "execution_count": 12,
   "metadata": {},
   "outputs": [],
   "source": [
    "# vectorise the text\n",
    "tfidf_vectorizer = TfidfVectorizer(stop_words='english', max_df=0.7)\n",
    "tfidf_train = tfidf_vectorizer.fit_transform(x_train) \n",
    "tfidf_test = tfidf_vectorizer.transform(x_test)"
   ]
  },
  {
   "cell_type": "markdown",
   "metadata": {},
   "source": [
    "The below 2 cells were my previous attempt, but I have left them here for context, please ignore :)"
   ]
  },
  {
   "cell_type": "code",
   "execution_count": 70,
   "metadata": {},
   "outputs": [
    {
     "name": "stdout",
     "output_type": "stream",
     "text": [
      "              precision    recall  f1-score   support\n",
      "\n",
      "        FAKE       0.92      0.91      0.91       808\n",
      "        REAL       0.91      0.91      0.91       776\n",
      "\n",
      "    accuracy                           0.91      1584\n",
      "   macro avg       0.91      0.91      0.91      1584\n",
      "weighted avg       0.91      0.91      0.91      1584\n",
      "\n"
     ]
    }
   ],
   "source": [
    "forest = RandomForestClassifier(n_estimators=1000, random_state=0)#forest.fit(tfidf_train,y_train)\n",
    "\n",
    "y_pred_forest = forest.predict(tfidf_test)\n",
    "\n",
    "print(classification_report(y_test,y_pred_forest))"
   ]
  },
  {
   "cell_type": "code",
   "execution_count": 72,
   "metadata": {},
   "outputs": [
    {
     "name": "stdout",
     "output_type": "stream",
     "text": [
      "              precision    recall  f1-score   support\n",
      "\n",
      "        FAKE       0.93      0.93      0.93       808\n",
      "        REAL       0.92      0.93      0.92       776\n",
      "\n",
      "    accuracy                           0.93      1584\n",
      "   macro avg       0.93      0.93      0.93      1584\n",
      "weighted avg       0.93      0.93      0.93      1584\n",
      "\n"
     ]
    }
   ],
   "source": [
    "pass_agg_clf = PassiveAggressiveClassifier(max_iter=50, random_state=0)\n",
    "pass_agg_clf.fit(tfidf_train,y_train)\n",
    "\n",
    "y_pred_pass = pass_agg_clf.predict(tfidf_test)\n",
    "\n",
    "print(classification_report(y_test,y_pred_pass))"
   ]
  },
  {
   "cell_type": "markdown",
   "metadata": {},
   "source": [
    "### Model selection\n",
    "Here, we compare the accuracy of different models using a 10-fold cross-validation method, to evaluate each algorithm. I also included a consistent random seed to ensure consistent comparability, however this did throw some warnings."
   ]
  },
  {
   "cell_type": "code",
   "execution_count": 97,
   "metadata": {},
   "outputs": [
    {
     "name": "stdout",
     "output_type": "stream",
     "text": [
      "LR: 0.916017 (0.012824)\n",
      "CART: 0.825508 (0.016017)\n",
      "SVM: 0.926751 (0.010898)\n",
      "FOR: 0.899601 (0.009781)\n",
      "AGG: 0.940222 (0.008169)\n"
     ]
    },
    {
     "data": {
      "image/png": "[encoded data removed]",
      "text/plain": [
       "<Figure size 432x288 with 1 Axes>"
      ]
     },
     "metadata": {
      "needs_background": "light"
     },
     "output_type": "display_data"
    }
   ],
   "source": [
    "# define models to evaluate\n",
    "models = []\n",
    "models.append(('LR', LogisticRegression()))\n",
    "models.append(('CART', DecisionTreeClassifier()))\n",
    "models.append(('SVM', SVC()))\n",
    "models.append(('FOR', RandomForestClassifier()))\n",
    "models.append(('AGG', PassiveAggressiveClassifier()))\n",
    "\n",
    "# evaluate models\n",
    "results = []\n",
    "names = []\n",
    "for name, model in models:\n",
    "    kfold = model_selection.KFold(n_splits=10, random_state=0, shuffle=True)\n",
    "    cv_results = model_selection.cross_val_score(model, tfidf_train, y_train, cv=kfold, scoring='accuracy')\n",
    "    results.append(cv_results)\n",
    "    names.append(name)\n",
    "    print(\"%s: %f (%f)\" % (name, cv_results.mean(), cv_results.std()))\n",
    "    \n",
    "# boxplot comparison\n",
    "fig = plt.figure()\n",
    "fig.suptitle('Algorithm Comparison')\n",
    "ax = fig.add_subplot(111)\n",
    "plt.boxplot(results)\n",
    "ax.set_xticklabels(names)\n",
    "plt.show()"
   ]
  },
  {
   "cell_type": "markdown",
   "metadata": {},
   "source": [
    "PassiveAggressiveClassifier looks like the best option based on accuracy, so we will use that as our model of choice"
   ]
  },
  {
   "cell_type": "code",
   "execution_count": 80,
   "metadata": {},
   "outputs": [
    {
     "name": "stdout",
     "output_type": "stream",
     "text": [
      "              precision    recall  f1-score   support\n",
      "\n",
      "        FAKE       0.93      0.93      0.93       808\n",
      "        REAL       0.92      0.93      0.92       776\n",
      "\n",
      "    accuracy                           0.93      1584\n",
      "   macro avg       0.93      0.93      0.93      1584\n",
      "weighted avg       0.93      0.93      0.93      1584\n",
      "\n"
     ]
    }
   ],
   "source": [
    "pass_agg_clf = PassiveAggressiveClassifier(max_iter=50, random_state=0)\n",
    "pass_agg_clf.fit(tfidf_train,y_train)\n",
    "\n",
    "y_pred_pass = pass_agg_clf.predict(tfidf_test)\n",
    "\n",
    "print(classification_report(y_test,y_pred_pass))"
   ]
  },
  {
   "cell_type": "markdown",
   "metadata": {},
   "source": [
    "## Web scraping to test model in the wild!"
   ]
  },
  {
   "cell_type": "markdown",
   "metadata": {},
   "source": [
    "The below code is rough workings. Which I have included for the benefit of context. It is refactored and changed into a function later on"
   ]
  },
  {
   "cell_type": "code",
   "execution_count": 15,
   "metadata": {},
   "outputs": [],
   "source": [
    "#url = 'https://www.washingtonpost.com/local/new-poll-finds-9-in-10-native-americans-arent-offended-by-redskins-name/2016/05/18/3ea11cfa-161a-11e6-924d-838753295f9a_story.html'  #Real News\n",
    "#url = 'https://www.breitbart.com/europe/2020/07/15/bastille-day-battle-antifa-protesters-clash-police-paris/'    #Dubious News\n",
    "url = 'http://www.thefiscaltimes.com/Columns/2016/01/26/Bernie-Sanders-Says-He-s-Democratic-Socialist-Here-s-What-Means' #Oh dear me...\n",
    "res = requests.get(url)\n",
    "html_page = res.content"
   ]
  },
  {
   "cell_type": "code",
   "execution_count": 16,
   "metadata": {},
   "outputs": [],
   "source": [
    "soup = BeautifulSoup(html_page, 'html.parser')"
   ]
  },
  {
   "cell_type": "markdown",
   "metadata": {},
   "source": [
    "I used a lot of trial and error with the below cell, to find out which HTML element most reliably identified the body of text. It almost always came from < p > in these articles, so I went with a single search rather than a list"
   ]
  },
  {
   "cell_type": "code",
   "execution_count": 17,
   "metadata": {},
   "outputs": [
    {
     "data": {
      "text/plain": [
       "{'[document]',\n",
       " 'a',\n",
       " 'b',\n",
       " 'body',\n",
       " 'div',\n",
       " 'footer',\n",
       " 'h1',\n",
       " 'h2',\n",
       " 'h3',\n",
       " 'head',\n",
       " 'header',\n",
       " 'html',\n",
       " 'label',\n",
       " 'li',\n",
       " 'p',\n",
       " 'script',\n",
       " 'span',\n",
       " 'style',\n",
       " 'title',\n",
       " 'ul'}"
      ]
     },
     "execution_count": 17,
     "metadata": {},
     "output_type": "execute_result"
    }
   ],
   "source": [
    "text = soup.find_all(text=True)\n",
    "\n",
    "set([t.parent.name for t in text])"
   ]
  },
  {
   "cell_type": "code",
   "execution_count": 18,
   "metadata": {},
   "outputs": [],
   "source": [
    "output = ''\n",
    "for t in text:\n",
    "    if t.parent.name == 'p':\n",
    "        output += '{} '.format(t)\n",
    "\n",
    "#output"
   ]
  },
  {
   "cell_type": "code",
   "execution_count": 19,
   "metadata": {},
   "outputs": [],
   "source": [
    "x_new = x_test"
   ]
  },
  {
   "cell_type": "code",
   "execution_count": 20,
   "metadata": {},
   "outputs": [],
   "source": [
    "for item in x_new.index:\n",
    "    x_new[item] = output"
   ]
  },
  {
   "cell_type": "code",
   "execution_count": 21,
   "metadata": {},
   "outputs": [],
   "source": [
    "newvalue = tfidf_vectorizer.transform(x_new)"
   ]
  },
  {
   "cell_type": "code",
   "execution_count": 81,
   "metadata": {},
   "outputs": [],
   "source": [
    "example = pass_agg_clf.predict(newvalue[0])"
   ]
  },
  {
   "cell_type": "code",
   "execution_count": 82,
   "metadata": {},
   "outputs": [
    {
     "data": {
      "text/plain": [
       "array(['FAKE'], dtype='<U4')"
      ]
     },
     "execution_count": 82,
     "metadata": {},
     "output_type": "execute_result"
    }
   ],
   "source": [
    "example"
   ]
  },
  {
   "cell_type": "markdown",
   "metadata": {},
   "source": [
    "At this point, it looks good! Not perfect, but functional. Below I structure the model into a callable function, which we can use for trying new articles"
   ]
  },
  {
   "cell_type": "code",
   "execution_count": 83,
   "metadata": {},
   "outputs": [],
   "source": [
    "def predict_article(url):\n",
    "    '''\n",
    "    Takes a url of a webpage, identifies the main body of the text then\n",
    "    returns whether or not the model thinks it is fake\n",
    "    Arguments:\n",
    "        -url: the url of the article to classify.\n",
    "    Returns:\n",
    "        -real_or_fake: The model's predicted class\n",
    "    '''\n",
    "    url = url\n",
    "    res = requests.get(url)\n",
    "    html_page = res.content\n",
    "    soup = BeautifulSoup(html_page, 'html.parser')\n",
    "    text = soup.find_all(text=True)\n",
    "    html = set([t.parent.name for t in text])\n",
    "    if 'p' not in html:\n",
    "        return 'No Article Found'\n",
    "    \n",
    "    output = ''\n",
    "    for t in text:\n",
    "        if t.parent.name == 'p':\n",
    "            output += '{} '.format(t)\n",
    "    \n",
    "    x_new = x_test\n",
    "    for item in x_new.index:\n",
    "        x_new[item] = output\n",
    "    \n",
    "    newvalue = tfidf_vectorizer.transform(x_new)\n",
    "    real_or_fake = pass_agg_clf.predict(newvalue[0])\n",
    "    \n",
    "    return real_or_fake[0]"
   ]
  },
  {
   "cell_type": "markdown",
   "metadata": {},
   "source": [
    "Next, we want to test the model against real articles. The how_fake_are_these function does just that"
   ]
  },
  {
   "cell_type": "code",
   "execution_count": 100,
   "metadata": {},
   "outputs": [],
   "source": [
    "def how_fake_are_these(articles):\n",
    "    '''\n",
    "    Takes a list of article urls, then outputs the classification and a % fake score.\n",
    "    Then prints the results.\n",
    "    It also deals with invalid datatypes.\n",
    "    Arguments:\n",
    "        -artciles: [list] a list of article urls\n",
    "    '''\n",
    "    if type(articles) is not list:\n",
    "        try:\n",
    "            temp = []\n",
    "            temp.append(articles)\n",
    "            articles = temp\n",
    "        except:\n",
    "            print('Please provide a list')\n",
    "    \n",
    "    fake_rate = []\n",
    "    \n",
    "    for i in articles:\n",
    "        result = predict_article(i)\n",
    "        if result == 'FAKE':\n",
    "            fake_rate.append(1)\n",
    "        else:\n",
    "            fake_rate.append(0)\n",
    "        print(result)\n",
    "\n",
    "    print('{}% fake rate'.format(round((sum(fake_rate) / len(fake_rate)) * 100),1))"
   ]
  },
  {
   "cell_type": "markdown",
   "metadata": {},
   "source": [
    "Testing based on Google search results for the year 2016, with the topic of the USA election, this is because the training dataset was built from a similar reference the model will not be able to predict, say, a 2020 article about 5G and coronavirus,  because this was at no point mentioned in 2016, as they both did not exist."
   ]
  },
  {
   "cell_type": "code",
   "execution_count": 95,
   "metadata": {},
   "outputs": [],
   "source": [
    "questionable_stuff = ['https://www.breitbart.com/politics/2016/08/02/khizr-khan-deletes-law-firm-website-proving-financially-benefits-pay-play-muslim-migration/',\n",
    "                     'https://www.breitbart.com/politics/2016/10/15/hillary-clinton-in-leaked-2013-speech-i-want-to-see-more-successful-business-people-run-for-office-because-they-cant-be-bought/',\n",
    "                     'https://www.breitbart.com/politics/2016/02/27/hillary-draft/',\n",
    "                     'https://www.lifesitenews.com/news/billboard-delivers-clear-message-to-catholic-voters',\n",
    "                     'https://www.lifesitenews.com/opinion/soros-lurks-in-the-shadows-trying-to-bring-down-catholic-church',\n",
    "                     'https://freebeacon.com/politics/al-gore-still-cries-losing-2000-election/',\n",
    "                     'https://freebeacon.com/issues/firefighters-say-no-hillary-trump/',\n",
    "                     'https://www.foxnews.com/politics/several-schools-close-for-election-day-over-fears-of-students-safety',\n",
    "                     'https://www.foxnews.com/food-drink/texas-restaurant-changes-name-to-trump-cafe-ahead-of-election',\n",
    "                     'https://www.theblaze.com/news/2016/07/02/the-purge-election-year-director-denies-film-intentionally-spoofs-trump-campaign'\n",
    "                    ]\n",
    "\n",
    "quality_journalism = ['https://www.washingtonpost.com/opinions/the-election-really-was-rigged/2016/11/29/c2ed58d8-b666-11e6-a677-b608fbb3aaf6_story.html',\n",
    "                      'https://www.theguardian.com/us-news/2016/nov/04/voters-experiences-us-2016-election-trump-clinton-campaign',\n",
    "                      'https://www.theguardian.com/us-news/2016/oct/31/world-opinion-us-election-russia-china-mexico-europe',\n",
    "                      'https://www.bbc.co.uk/news/election-us-2016-36029381?ocid=socialflow_facebook&',\n",
    "                      'https://www.bbc.co.uk/news/election-us-2016-36582770',\n",
    "                      'https://www.bbc.co.uk/news/election-2016-35781225?tblang=english',\n",
    "                      'https://www.washingtonpost.com/news/monkey-cage/wp/2016/03/10/why-are-americans-so-angry-this-election-season-heres-new-research-that-helps-explain-it/',\n",
    "                      'https://www.newyorker.com/magazine/2016/07/04/conventions-primaries-and-the-presidency',\n",
    "                      'https://www.newyorker.com/news/john-cassidy/could-donald-trump-win-the-general-election',\n",
    "                      'https://www.reuters.com/news/picture/mexican-band-man-urges-latinos-to-vote-i-idUSKCN11K27Q'\n",
    "                     ]\n",
    "\n",
    "satire = ['https://www.theonion.com/nate-silver-gunned-down-attempting-to-cross-mexican-bor-1819579401',\n",
    "          'https://www.theonion.com/teary-eyed-tim-kaine-asks-clinton-if-his-hair-will-grow-1819579403',\n",
    "          'https://www.theonion.com/the-onion-humbly-offers-up-its-offices-to-imprison-the-1819579397',\n",
    "          'https://www.theonion.com/defiant-mitch-mcconnell-holds-merrick-garland-s-severed-1819578720',\n",
    "          'https://www.newyorker.com/humor/borowitz-report/queen-offers-to-restore-british-rule-over-united-states',\n",
    "          'https://www.newyorker.com/humor/borowitz-report/palin-blames-obama-for-her-defeat-in-2008-election',\n",
    "          'https://www.newyorker.com/humor/borowitz-report/trump-says-he-will-sue-everyone-in-wisconsin',\n",
    "          'https://www.thespoof.com/spoof-news/sport/127159/biden-trump-mma-fight-set-for-after-election',\n",
    "          'https://www.thespoof.com/spoof-news/science-technology/125762/earth-will-explode-soon-due-to-hot-air-from-2016-elections',\n",
    "          'https://www.thespoof.com/spoof-news/us/126339/trump-retweets-racist-image-of-mitt-romney-as-a-mexican']"
   ]
  },
  {
   "cell_type": "code",
   "execution_count": 101,
   "metadata": {},
   "outputs": [
    {
     "name": "stdout",
     "output_type": "stream",
     "text": [
      "FAKE\n",
      "FAKE\n",
      "FAKE\n",
      "FAKE\n",
      "FAKE\n",
      "FAKE\n",
      "REAL\n",
      "FAKE\n",
      "FAKE\n",
      "FAKE\n",
      "90% fake rate\n"
     ]
    }
   ],
   "source": [
    "how_fake_are_these(questionable_stuff)"
   ]
  },
  {
   "cell_type": "code",
   "execution_count": 102,
   "metadata": {},
   "outputs": [
    {
     "name": "stdout",
     "output_type": "stream",
     "text": [
      "REAL\n",
      "REAL\n",
      "REAL\n",
      "REAL\n",
      "REAL\n",
      "REAL\n",
      "REAL\n",
      "REAL\n",
      "REAL\n",
      "FAKE\n",
      "10% fake rate\n"
     ]
    }
   ],
   "source": [
    "how_fake_are_these(quality_journalism)"
   ]
  },
  {
   "cell_type": "code",
   "execution_count": 103,
   "metadata": {},
   "outputs": [
    {
     "name": "stdout",
     "output_type": "stream",
     "text": [
      "FAKE\n",
      "FAKE\n",
      "FAKE\n",
      "REAL\n",
      "FAKE\n",
      "FAKE\n",
      "FAKE\n",
      "FAKE\n",
      "FAKE\n",
      "FAKE\n",
      "90% fake rate\n"
     ]
    }
   ],
   "source": [
    "how_fake_are_these(satire)"
   ]
  },
  {
   "cell_type": "markdown",
   "metadata": {},
   "source": [
    "These results looks extremely positive to me. Whilst this test is far from statistically significant, the 93% accuracy would suggest that these results above (9 out of 10 correct) validate the model."
   ]
  },
  {
   "cell_type": "code",
   "execution_count": 106,
   "metadata": {},
   "outputs": [
    {
     "data": {
      "text/plain": [
       "'NOTE TO REVIEWER: Try it for yourself? Add a url below to see what the model thinks of it'"
      ]
     },
     "execution_count": 106,
     "metadata": {},
     "output_type": "execute_result"
    }
   ],
   "source": [
    "'''NOTE TO REVIEWER: Try it for yourself? Add a url below to see what the model thinks of it'''\n",
    "how_fake_are_these('https://www.website.com/article/')"
   ]
  },
  {
   "cell_type": "markdown",
   "metadata": {},
   "source": [
    "# Conclusion\n",
    "### Summary\n",
    "The model predicts an articles fakeness to an acceptable degree of accuracy. Therefore meeting the criterea I set out in the project overview.\n",
    "\n",
    "### Future improvements\n",
    "By far the most significant issue in my eyes is the lack of universal data. The model performs well, however we have only tested it for articles within a similar domain. As a next step, I would like to expand the dataset to encompass a greater time-period and a wider geography.\n",
    "\n",
    "On a similar note, this is clearly only useful for English language articles. I would like to expand the functions to have an option for other widely-spoken languages such as Spanish, French, German, Mandarin or Hindi. \n",
    "\n",
    "However, due to time constraints these were not feasible.\n",
    "\n",
    "I would also like to embedd the model into a web app, so that other users can check their articles for fakeness. But this is a project for another day."
   ]
  }
 ],
 "metadata": {
  "kernelspec": {
   "display_name": "Python 3",
   "language": "python",
   "name": "python3"
  },
  "language_info": {
   "codemirror_mode": {
    "name": "ipython",
    "version": 3
   },
   "file_extension": ".py",
   "mimetype": "text/x-python",
   "name": "python",
   "nbconvert_exporter": "python",
   "pygments_lexer": "ipython3",
   "version": "3.7.6"
  }
 },
 "nbformat": 4,
 "nbformat_minor": 2
}
